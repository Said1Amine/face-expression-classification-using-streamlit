{
 "cells": [
  {
   "cell_type": "code",
   "execution_count": 1,
   "metadata": {},
   "outputs": [],
   "source": [
    "from PIL import Image\n",
    "from glob import glob\n",
    "import os \n",
    "import numpy as np\n",
    "import tensorflow as tf \n",
    "from keras.models import Sequential\n",
    "from keras.layers import Conv2D,MaxPooling2D, Dense, Flatten,GlobalAveragePooling2D,Dropout\n",
    "from sklearn.model_selection import train_test_split\n",
    "from keras.applications.mobilenet_v2 import MobileNetV2\n",
    "import matplotlib.pyplot as plt \n",
    "import pickle"
   ]
  },
  {
   "cell_type": "code",
   "execution_count": 2,
   "metadata": {},
   "outputs": [],
   "source": [
    "# Get a list of all the image file paths in a directory\n",
    "data = []\n",
    "labels = []\n",
    "root = \"data/\"\n",
    "categories = os.listdir(root)\n",
    "for c in range(len(categories)):\n",
    "    category = categories[c]\n",
    "    path = os.path.join(root,category)\n",
    "    image_files = glob(path+'/*.jpg')\n",
    "    # Loop through the file paths and open each image\n",
    "    for file in image_files:\n",
    "        image = Image.open(file).convert('RGB')\n",
    "        # Resize the image using the Image.resize() method\n",
    "        image = image.resize((224, 224))\n",
    "        data.append(np.array(image)/255)\n",
    "        labels.append(c)"
   ]
  },
  {
   "cell_type": "code",
   "execution_count": 3,
   "metadata": {},
   "outputs": [],
   "source": [
    "X = np.array(data)\n",
    "y = np.array(labels)"
   ]
  },
  {
   "cell_type": "code",
   "execution_count": 4,
   "metadata": {},
   "outputs": [
    {
     "data": {
      "text/plain": [
       "['angry', 'disgust', 'fear', 'happy', 'neutral', 'sad', 'surprise']"
      ]
     },
     "execution_count": 4,
     "metadata": {},
     "output_type": "execute_result"
    }
   ],
   "source": [
    "categories"
   ]
  },
  {
   "cell_type": "code",
   "execution_count": 5,
   "metadata": {},
   "outputs": [],
   "source": [
    "with open('categories.pickle','wb') as f : \n",
    "    pickle.dump(categories,f)"
   ]
  },
  {
   "cell_type": "code",
   "execution_count": 6,
   "metadata": {},
   "outputs": [],
   "source": [
    "n = len(set(y))"
   ]
  },
  {
   "cell_type": "code",
   "execution_count": 7,
   "metadata": {},
   "outputs": [],
   "source": [
    "X_train , X_test , y_train ,y_test = train_test_split(X,y,random_state=42)"
   ]
  },
  {
   "cell_type": "code",
   "execution_count": 8,
   "metadata": {},
   "outputs": [],
   "source": [
    "base_model = MobileNetV2(input_shape=(224,224,3),\n",
    "                                               include_top=False,\n",
    "                                               weights='imagenet')\n",
    "\n",
    "base_model.trainable = False\n",
    "\n",
    "model = tf.keras.Sequential([\n",
    "                              base_model,\n",
    "                              GlobalAveragePooling2D(),\n",
    "                              Dense(1024, activation = 'relu'),\n",
    "                              Dropout(rate = 0.2),\n",
    "                              Dense(n, activation='softmax')\n",
    "                            ])\n",
    "\n",
    "model.compile(optimizer = \"adam\",\n",
    "                loss = \"sparse_categorical_crossentropy\",\n",
    "                metrics=[\"accuracy\"])"
   ]
  },
  {
   "cell_type": "code",
   "execution_count": 11,
   "metadata": {},
   "outputs": [
    {
     "name": "stdout",
     "output_type": "stream",
     "text": [
      "Epoch 1/20\n",
      "204/204 [==============================] - 126s 615ms/step - loss: 1.4852 - accuracy: 0.4272 - val_loss: 1.5095 - val_accuracy: 0.3946\n",
      "Epoch 2/20\n",
      "204/204 [==============================] - 130s 637ms/step - loss: 1.3890 - accuracy: 0.4720 - val_loss: 1.5326 - val_accuracy: 0.4263\n",
      "Epoch 3/20\n",
      "204/204 [==============================] - 121s 596ms/step - loss: 1.3344 - accuracy: 0.4930 - val_loss: 1.4463 - val_accuracy: 0.4479\n",
      "Epoch 4/20\n",
      "204/204 [==============================] - 122s 598ms/step - loss: 1.2596 - accuracy: 0.5187 - val_loss: 1.4613 - val_accuracy: 0.4405\n",
      "Epoch 5/20\n",
      "204/204 [==============================] - 126s 618ms/step - loss: 1.1890 - accuracy: 0.5473 - val_loss: 1.5201 - val_accuracy: 0.4088\n",
      "Epoch 6/20\n",
      "204/204 [==============================] - 119s 583ms/step - loss: 1.1142 - accuracy: 0.5807 - val_loss: 1.4977 - val_accuracy: 0.4373\n",
      "Epoch 7/20\n",
      "204/204 [==============================] - 116s 571ms/step - loss: 1.0474 - accuracy: 0.6080 - val_loss: 1.4924 - val_accuracy: 0.4497\n",
      "Epoch 8/20\n",
      "204/204 [==============================] - 118s 580ms/step - loss: 0.9710 - accuracy: 0.6385 - val_loss: 1.4581 - val_accuracy: 0.4557\n",
      "Epoch 9/20\n",
      "204/204 [==============================] - 120s 588ms/step - loss: 0.9045 - accuracy: 0.6601 - val_loss: 1.5066 - val_accuracy: 0.4451\n",
      "Epoch 10/20\n",
      "204/204 [==============================] - 122s 600ms/step - loss: 0.8218 - accuracy: 0.7048 - val_loss: 1.6197 - val_accuracy: 0.4286\n",
      "Epoch 11/20\n",
      "204/204 [==============================] - 121s 596ms/step - loss: 0.7308 - accuracy: 0.7437 - val_loss: 1.5977 - val_accuracy: 0.4603\n",
      "Epoch 12/20\n",
      "204/204 [==============================] - 123s 603ms/step - loss: 0.6637 - accuracy: 0.7661 - val_loss: 1.6334 - val_accuracy: 0.4727\n",
      "Epoch 13/20\n",
      "204/204 [==============================] - 127s 624ms/step - loss: 0.5987 - accuracy: 0.7921 - val_loss: 1.6705 - val_accuracy: 0.4529\n",
      "Epoch 14/20\n",
      "204/204 [==============================] - 126s 619ms/step - loss: 0.5326 - accuracy: 0.8185 - val_loss: 1.6694 - val_accuracy: 0.4653\n",
      "Epoch 15/20\n",
      "204/204 [==============================] - 121s 592ms/step - loss: 0.4692 - accuracy: 0.8388 - val_loss: 1.7623 - val_accuracy: 0.4552\n",
      "Epoch 16/20\n",
      "204/204 [==============================] - 123s 604ms/step - loss: 0.4320 - accuracy: 0.8563 - val_loss: 1.8688 - val_accuracy: 0.4612\n",
      "Epoch 17/20\n",
      "204/204 [==============================] - 123s 604ms/step - loss: 0.3754 - accuracy: 0.8776 - val_loss: 1.8624 - val_accuracy: 0.4626\n",
      "Epoch 18/20\n",
      "204/204 [==============================] - 123s 603ms/step - loss: 0.3236 - accuracy: 0.8912 - val_loss: 1.9261 - val_accuracy: 0.4584\n",
      "Epoch 19/20\n",
      "204/204 [==============================] - 122s 598ms/step - loss: 0.2787 - accuracy: 0.9119 - val_loss: 2.0600 - val_accuracy: 0.4626\n",
      "Epoch 20/20\n",
      "204/204 [==============================] - 120s 588ms/step - loss: 0.2582 - accuracy: 0.9153 - val_loss: 2.0828 - val_accuracy: 0.4598\n"
     ]
    }
   ],
   "source": [
    "history = model.fit(X_train,y_train,epochs=20,validation_data=(X_test,y_test))"
   ]
  },
  {
   "cell_type": "code",
   "execution_count": 12,
   "metadata": {},
   "outputs": [],
   "source": [
    "model.save(\"model.h5\")"
   ]
  },
  {
   "cell_type": "code",
   "execution_count": null,
   "metadata": {},
   "outputs": [],
   "source": []
  }
 ],
 "metadata": {
  "kernelspec": {
   "display_name": "Python 3 (ipykernel)",
   "language": "python",
   "name": "python3"
  },
  "language_info": {
   "codemirror_mode": {
    "name": "ipython",
    "version": 3
   },
   "file_extension": ".py",
   "mimetype": "text/x-python",
   "name": "python",
   "nbconvert_exporter": "python",
   "pygments_lexer": "ipython3",
   "version": "3.8.8"
  },
  "vscode": {
   "interpreter": {
    "hash": "ad2bdc8ecc057115af97d19610ffacc2b4e99fae6737bb82f5d7fb13d2f2c186"
   }
  }
 },
 "nbformat": 4,
 "nbformat_minor": 2
}
